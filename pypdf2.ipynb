{
 "metadata": {
  "language_info": {
   "codemirror_mode": {
    "name": "ipython",
    "version": 3
   },
   "file_extension": ".py",
   "mimetype": "text/x-python",
   "name": "python",
   "nbconvert_exporter": "python",
   "pygments_lexer": "ipython3",
   "version": "3.8.7-final"
  },
  "orig_nbformat": 2,
  "kernelspec": {
   "name": "python3",
   "display_name": "Python 3.8.7 64-bit",
   "metadata": {
    "interpreter": {
     "hash": "9794770d9c1d68e38b64757b841523149a6290c4a7e494f03768a0ac116eed3d"
    }
   }
  }
 },
 "nbformat": 4,
 "nbformat_minor": 2,
 "cells": [
  {
   "cell_type": "code",
   "execution_count": 1,
   "metadata": {},
   "outputs": [],
   "source": [
    "import PyPDF2\n",
    "from os import listdir\n",
    "from os.path import isfile, join"
   ]
  },
  {
   "cell_type": "code",
   "execution_count": 2,
   "metadata": {},
   "outputs": [],
   "source": [
    "test_file_name = 'dracula.pdf'"
   ]
  },
  {
   "cell_type": "code",
   "execution_count": 3,
   "metadata": {},
   "outputs": [],
   "source": [
    "f = open(test_file_name, 'rb')\n",
    "pdf = PyPDF2.PdfFileReader(f)"
   ]
  },
  {
   "cell_type": "code",
   "execution_count": 4,
   "metadata": {},
   "outputs": [
    {
     "output_type": "execute_result",
     "data": {
      "text/plain": [
       "3"
      ]
     },
     "metadata": {},
     "execution_count": 4
    }
   ],
   "source": [
    "# get number of pages\n",
    "pdf.numPages"
   ]
  },
  {
   "cell_type": "code",
   "execution_count": 5,
   "metadata": {},
   "outputs": [
    {
     "output_type": "execute_result",
     "data": {
      "text/plain": [
       "{'/Author': 'Ellie Hallenborg',\n",
       " '/Creator': 'Microsoft® Word 2019',\n",
       " '/CreationDate': \"D:20210222182448-05'00'\",\n",
       " '/ModDate': \"D:20210222182448-05'00'\",\n",
       " '/Producer': 'Microsoft® Word 2019'}"
      ]
     },
     "metadata": {},
     "execution_count": 5
    }
   ],
   "source": [
    "# get document information\n",
    "pdf.getDocumentInfo()"
   ]
  },
  {
   "cell_type": "code",
   "execution_count": 7,
   "metadata": {},
   "outputs": [
    {
     "output_type": "execute_result",
     "data": {
      "text/plain": [
       "'then. I had for breakfast more paprika, and a sort of porridge of maize flour which they \\n\\n-\\nplant stuffed with forcemeat, a very excellent dish, \\nwhich the\\n\\nMem.\\n, get recipe for this also.) I had to hurry breakfast, \\nfor the train started a little before eight, or rather it ought to have done so, for after \\nrushing to the station at 7:30 I had to sit in the carriage for more than an hour bef\\nore we \\nbegan to move. It seems to me that the further east you go the more unpunctual are the \\ntrains. What ought they to be in China?\\n \\nAll day long we seemed to dawdle through a country which was full of beauty of \\nevery kind. Sometimes we saw little towns o\\nr castles on the top of steep hills such as \\nwe see in old missals; sometimes we ran by rivers and streams which seemed from the \\nwide stony margin on each side of them to be subject to great floods. It takes a lot of \\nwater, and running strong, to sweep the \\noutside edge of a river clear. At every station \\nthere were groups of people, sometimes crowds, and in all sorts of attire. Some o\\nf\\n \\nthem \\nwere just like the peasants at home or those I saw coming through France and Germany, \\nwith short jackets and round hats \\nand home\\n-\\nmade trousers; but others were very \\npicturesque. The women looked pretty, except when you got near them, but they were \\nvery clumsy about the waist. They had all full white sleeves of some kind or other, and \\nmost of them had big belts with a lot of\\n \\nstrips of something fluttering from them like \\nthe dresses in a ballet, but of course there were petticoats under them. The strangest \\nfigures we saw were the Slovaks, who were more barbarian than the rest, with their big \\ncow\\n-\\nboy hats, great baggy dirty\\n-\\nwhi\\nte trousers, white linen shirts, and enormous heavy \\nleather belts, nearly a foot wide, all studded over with brass nails. They wore high boots, \\nwith their trousers tucked into them, and had long black hair and heavy black \\nmoustaches. They are very pictures\\nque, but do not look prepossessing. On the stage \\nthey would be set down at once as some old Oriental band of brigands. They are, \\nhowever, I am told, very harmless and rather wanting in natural self\\n-\\nassertion.\\n \\nIt was on the dark side of twilight when we got\\n \\nto Bistritz, which is a very \\ninteresting old place. Being practically on the frontier\\n\\nfor the Borgo Pass leads from \\nit into Bukovina\\n\\nit has had a very stormy existence, and it certainly shows marks of \\nit. Fifty years ago a series of great fires took place\\n, which made terrible havoc on five \\nseparate occasions. At the very beginning of the seventeenth century it underwent a \\nsiege of three weeks and lost 13,000 people, the casualties of war proper being assisted \\nby famine and disease.\\n \\nCount Dracula had direct\\ned me to go to the Golden Krone Hotel, which I found, to \\nmy great delight, to be thoroughly old\\n-\\nfashioned, for of course I wanted to see all I \\ncould of the ways of the country. I was evidently expected, for when I got near the door \\nI faced a cheery\\n-\\nlooking\\n \\nelderly woman in the usual peasant dress\\n\\nwhite \\nundergarment with long double apron, front, and back, of coloured stuff fitting almost \\n\\n\\n \\nsmiled, and gave some message to an elderly man \\n'"
      ]
     },
     "metadata": {},
     "execution_count": 7
    }
   ],
   "source": [
    "# get a page and extract text\n",
    "page = pdf.getPage(1)\n",
    "page_text = page.extractText()\n",
    "page_text"
   ]
  },
  {
   "cell_type": "code",
   "execution_count": null,
   "metadata": {},
   "outputs": [],
   "source": []
  }
 ]
}